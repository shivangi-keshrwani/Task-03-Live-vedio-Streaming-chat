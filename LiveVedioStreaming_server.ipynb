{
 "cells": [
  {
   "cell_type": "code",
   "execution_count": 1,
   "id": "aa2fe387",
   "metadata": {},
   "outputs": [
    {
     "name": "stdout",
     "output_type": "stream",
     "text": [
      "HOST IP: 192.168.56.1\n"
     ]
    }
   ],
   "source": [
    "import socket , cv2 ,pickle ,struct \n",
    "import imutils\n",
    "server_socket = socket.socket(socket.AF_INET,socket.SOCK_STREAM)\n",
    "host_name  = socket.gethostname()\n",
    "host_ip = socket.gethostbyname(host_name)\n",
    "print('HOST IP:',host_ip)\n",
    "port = 10050\n",
    "socket_address = (host_ip,port)"
   ]
  },
  {
   "cell_type": "code",
   "execution_count": 2,
   "id": "f86b477e",
   "metadata": {},
   "outputs": [],
   "source": [
    "server_socket.bind(socket_address)"
   ]
  },
  {
   "cell_type": "code",
   "execution_count": 3,
   "id": "f19a707b",
   "metadata": {},
   "outputs": [
    {
     "name": "stdout",
     "output_type": "stream",
     "text": [
      "LISTENING AT: ('192.168.56.1', 10050)\n"
     ]
    }
   ],
   "source": [
    "\n",
    "server_socket.listen(10)\n",
    "print(\"LISTENING AT:\",socket_address)"
   ]
  },
  {
   "cell_type": "code",
   "execution_count": null,
   "id": "8c18449b",
   "metadata": {},
   "outputs": [
    {
     "name": "stdout",
     "output_type": "stream",
     "text": [
      "GOT CONNECTION FROM: ('192.168.56.1', 56463)\n"
     ]
    }
   ],
   "source": [
    "while True:\n",
    "    client_socket,addr = server_socket.accept()\n",
    "    print('GOT CONNECTION FROM:',addr)\n",
    "    if client_socket:\n",
    "        cap = cv2.VideoCapture(0)\n",
    "\n",
    "        while(cap.isOpened()):\n",
    "            ret,vdo = cap.read()\n",
    "            vdo = imutils.resize(vdo,width=320)\n",
    "            a = pickle.dumps(vdo)\n",
    "            message = struct.pack(\"Q\",len(a))+a\n",
    "            client_socket.sendall(message)\n",
    "\n",
    "            cv2.imshow('TRANSMITTING VIDEO',vdo)\n",
    "            key = cv2.waitKey(1) & 0xFF #cv2.waitKey() returns a 32 Bit integer value . The key input is in ASCII which is an 8 Bit integer value. \n",
    "            #So you only care about these 8 bits and want all other bits to be 0.\n",
    "            \n",
    "            if key ==ord('q'):\n",
    "                client_socket.close()\n",
    "cv2.destroyAllWindows()"
   ]
  },
  {
   "cell_type": "code",
   "execution_count": null,
   "id": "e64c7b54",
   "metadata": {},
   "outputs": [],
   "source": []
  }
 ],
 "metadata": {
  "kernelspec": {
   "display_name": "Python 3",
   "language": "python",
   "name": "python3"
  },
  "language_info": {
   "codemirror_mode": {
    "name": "ipython",
    "version": 3
   },
   "file_extension": ".py",
   "mimetype": "text/x-python",
   "name": "python",
   "nbconvert_exporter": "python",
   "pygments_lexer": "ipython3",
   "version": "3.8.8"
  }
 },
 "nbformat": 4,
 "nbformat_minor": 5
}
