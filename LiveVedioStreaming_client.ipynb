{
 "cells": [
  {
   "cell_type": "code",
   "execution_count": 1,
   "id": "5627858f",
   "metadata": {},
   "outputs": [],
   "source": [
    "import socket , cv2 ,pickle ,struct \n",
    "import imutils\n",
    "client_socket = socket.socket(socket.AF_INET,socket.SOCK_STREAM)\n",
    "host_ip = '192.168.56.1' # paste your HOST IP\n",
    "port = 10050"
   ]
  },
  {
   "cell_type": "code",
   "execution_count": 2,
   "id": "f937548f",
   "metadata": {},
   "outputs": [],
   "source": [
    "client_socket.connect((host_ip,port)) # tuple\n",
    "data = b\"\" # Initialise data variable as a string , b - bytes\n",
    "# Payload size is defined with \"Q\" i.e.,unsigned long long integer that takes 8 bytes\n",
    "payload_size = struct.calcsize(\"Q\")"
   ]
  },
  {
   "cell_type": "code",
   "execution_count": null,
   "id": "e5f97568",
   "metadata": {},
   "outputs": [],
   "source": [
    "while True:\n",
    "        while len(data) < payload_size:\n",
    "\n",
    "               # when we recieve packet we use 4k buffer\n",
    "                packet = client_socket.recv(4*1024) \n",
    "\n",
    "                if not packet: break\n",
    "                data+=packet\n",
    "\n",
    "        # First 8 bytes contain size of packed msg so we use data           from 0 to payload_size(i.e., 8)\n",
    "        packed_msg_size = data[:payload_size]\n",
    "\n",
    "        # Rest of the data contains video so we set new data which we have to frame to display\n",
    "        data = data[payload_size:]\n",
    "        msg_size = struct.unpack(\"Q\",packed_msg_size)[0]\n",
    "\n",
    "        while len(data) < msg_size:\n",
    "            data += client_socket.recv(4*1024)\n",
    "\n",
    "        # We will get the packed msg size and run the while loop until we receive all data from the client socket for frame\n",
    "        frame_data = data[:msg_size]\n",
    "        data  = data[msg_size:]\n",
    "\n",
    "        # Finally, frame data is recovered\n",
    "        frame = pickle.loads(frame_data)\n",
    "\n",
    "        cv2.imshow(\"RECEIVING VIDEO\",frame)\n",
    "        key = cv2.waitKey(1) & 0xFF\n",
    "        if key  == ord('q'):  # q is used to quit the video\n",
    "            break\n",
    "            client_socket.close()\n"
   ]
  },
  {
   "cell_type": "code",
   "execution_count": null,
   "id": "3e604d0c",
   "metadata": {},
   "outputs": [],
   "source": []
  }
 ],
 "metadata": {
  "kernelspec": {
   "display_name": "Python 3",
   "language": "python",
   "name": "python3"
  },
  "language_info": {
   "codemirror_mode": {
    "name": "ipython",
    "version": 3
   },
   "file_extension": ".py",
   "mimetype": "text/x-python",
   "name": "python",
   "nbconvert_exporter": "python",
   "pygments_lexer": "ipython3",
   "version": "3.8.8"
  }
 },
 "nbformat": 4,
 "nbformat_minor": 5
}
